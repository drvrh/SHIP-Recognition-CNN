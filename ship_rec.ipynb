{
 "cells": [
  {
   "cell_type": "code",
   "execution_count": 1,
   "metadata": {},
   "outputs": [
    {
     "name": "stderr",
     "output_type": "stream",
     "text": [
      "Using TensorFlow backend.\n"
     ]
    },
    {
     "name": "stdout",
     "output_type": "stream",
     "text": [
      "Found 8374 images belonging to 2 classes.\n",
      "Found 6099 images belonging to 3 classes.\n",
      "Epoch 1/10\n",
      "262/262 [==============================] - 24s 91ms/step - loss: 0.4493 - acc: 0.7935 - val_loss: -2.1147 - val_acc: 0.0808\n",
      "Epoch 2/10\n",
      "262/262 [==============================] - 22s 84ms/step - loss: 0.3325 - acc: 0.8571 - val_loss: -2.2827 - val_acc: 0.0410\n",
      "Epoch 3/10\n",
      "262/262 [==============================] - 22s 84ms/step - loss: 0.3013 - acc: 0.8763 - val_loss: -1.7682 - val_acc: 0.0175\n",
      "Epoch 4/10\n",
      "262/262 [==============================] - 22s 84ms/step - loss: 0.2899 - acc: 0.8782 - val_loss: -2.5526 - val_acc: 0.0310\n",
      "Epoch 5/10\n",
      "262/262 [==============================] - 22s 85ms/step - loss: 0.2698 - acc: 0.8899 - val_loss: -2.2762 - val_acc: 0.0149\n",
      "Epoch 6/10\n",
      "262/262 [==============================] - 22s 85ms/step - loss: 0.2637 - acc: 0.8905 - val_loss: -3.5552 - val_acc: 0.0421\n",
      "Epoch 7/10\n",
      "262/262 [==============================] - 22s 85ms/step - loss: 0.2471 - acc: 0.8986 - val_loss: -3.3326 - val_acc: 0.0359\n",
      "Epoch 8/10\n",
      "262/262 [==============================] - 22s 85ms/step - loss: 0.2342 - acc: 0.9054 - val_loss: -3.7006 - val_acc: 0.0438\n",
      "Epoch 9/10\n",
      "262/262 [==============================] - 22s 83ms/step - loss: 0.2142 - acc: 0.9148 - val_loss: -2.7174 - val_acc: 0.0146\n",
      "Epoch 10/10\n",
      "262/262 [==============================] - 22s 83ms/step - loss: 0.2084 - acc: 0.9137 - val_loss: -3.0618 - val_acc: 0.0223\n"
     ]
    },
    {
     "data": {
      "text/plain": [
       "<keras.callbacks.History at 0x7f9461fabf60>"
      ]
     },
     "execution_count": 1,
     "metadata": {},
     "output_type": "execute_result"
    }
   ],
   "source": [
    "from keras.models import Sequential\n",
    "from keras.layers import Conv2D\n",
    "from keras.layers import MaxPooling2D\n",
    "from keras.layers import Flatten\n",
    "from keras.layers import Dense\n",
    "\n",
    "classifier = Sequential()\n",
    "\n",
    "\n",
    "classifier.add(Conv2D(32, 3, input_shape = (64, 64, 3),data_format=\"channels_last\", activation = 'relu'))\n",
    "#classifier.add(Convolution2D(32, 3, 3, input_shape = (64, 64, 3), activation = 'relu'))\n",
    "\n",
    "\n",
    "classifier.add(MaxPooling2D(pool_size = (2, 2)))\n",
    "\n",
    "\n",
    "classifier.add(Flatten())\n",
    "\n",
    "\n",
    "classifier.add(Dense(units = 128, activation = 'relu'))\n",
    "\n",
    "\n",
    "classifier.add(Dense(units = 1, activation = 'sigmoid'))\n",
    "\n",
    "\n",
    "classifier.compile(optimizer = 'adam', loss = 'binary_crossentropy', metrics =['accuracy'])\n",
    "\n",
    "\n",
    "from keras.preprocessing.image import ImageDataGenerator\n",
    "\n",
    "\n",
    "train_datagen = ImageDataGenerator(rescale = 1./255,\n",
    "                                   shear_range = 0.2,\n",
    "                                   zoom_range = 0.2,\n",
    "                                   horizontal_flip = True)\n",
    "\n",
    "test_datagen = ImageDataGenerator(rescale = 1./255)\n",
    "\n",
    "\n",
    "training_set = train_datagen.flow_from_directory('dataset/training_set',\n",
    "                                                 target_size = (64, 64),\n",
    "                                                 batch_size = 32,\n",
    "                                                 class_mode = 'binary')\n",
    "\n",
    "\n",
    "test_set = test_datagen.flow_from_directory('dataset/test_set',\n",
    "                                            target_size = (64, 64),\n",
    "                                            batch_size = 32,\n",
    "                                            class_mode = 'binary')\n",
    "\n",
    "from IPython.display import display\n",
    "from PIL import Image\n",
    "classifier.fit_generator(training_set,\n",
    "                         steps_per_epoch = len(training_set),\n",
    "                         epochs = 10,\n",
    "                         validation_data = test_set,\n",
    "                         validation_steps = len(test_set))                       \n"
   ]
  },
  {
   "cell_type": "code",
   "execution_count": 7,
   "metadata": {},
   "outputs": [
    {
     "name": "stdout",
     "output_type": "stream",
     "text": [
      "0.0\n",
      "Container\n"
     ]
    }
   ],
   "source": [
    "import numpy as np\n",
    "from keras.preprocessing import image\n",
    "test_image = image.load_img('dataset/test_set/Container/683.jpg', target_size = (64, 64))\n",
    "test_image = image.img_to_array(test_image)\n",
    "test_image = np.expand_dims(test_image, axis = 0)\n",
    "result = classifier.predict(test_image)\n",
    "training_set.class_indices\n",
    "print(result[0][0])\n",
    "if result[0][0] == 1:\n",
    "    prediction = 'Yacht'\n",
    "else:\n",
    "    prediction = 'Container'\n",
    "print(prediction)"
   ]
  },
  {
   "cell_type": "code",
   "execution_count": null,
   "metadata": {},
   "outputs": [],
   "source": []
  }
 ],
 "metadata": {
  "kernelspec": {
   "display_name": "Python 3",
   "language": "python",
   "name": "python3"
  },
  "language_info": {
   "codemirror_mode": {
    "name": "ipython",
    "version": 3
   },
   "file_extension": ".py",
   "mimetype": "text/x-python",
   "name": "python",
   "nbconvert_exporter": "python",
   "pygments_lexer": "ipython3",
   "version": "3.6.8"
  }
 },
 "nbformat": 4,
 "nbformat_minor": 4
}
